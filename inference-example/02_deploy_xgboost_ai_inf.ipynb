{
 "cells": [
  {
   "cell_type": "code",
   "execution_count": 1,
   "id": "433c9253-68a8-4094-9ad3-bc81dc36517a",
   "metadata": {},
   "outputs": [],
   "source": [
    "#****************************************************************************\n",
    "# (C) Cloudera, Inc. 2020-2023\n",
    "#  All rights reserved.\n",
    "#\n",
    "#  Applicable Open Source License: GNU Affero General Public License v3.0\n",
    "#\n",
    "#  NOTE: Cloudera open source products are modular software products\n",
    "#  made up of hundreds of individual components, each of which was\n",
    "#  individually copyrighted.  Each Cloudera open source product is a\n",
    "#  collective work under U.S. Copyright Law. Your license to use the\n",
    "#  collective work is as provided in your written agreement with\n",
    "#  Cloudera.  Used apart from the collective work, this file is\n",
    "#  licensed for your use pursuant to the open source license\n",
    "#  identified above.\n",
    "#\n",
    "#  This code is provided to you pursuant a written agreement with\n",
    "#  (i) Cloudera, Inc. or (ii) a third-party authorized to distribute\n",
    "#  this code. If you do not have a written agreement with Cloudera nor\n",
    "#  with an authorized and properly licensed third party, you do not\n",
    "#  have any rights to access nor to use this code.\n",
    "#\n",
    "#  Absent a written agreement with Cloudera, Inc. (“Cloudera”) to the\n",
    "#  contrary, A) CLOUDERA PROVIDES THIS CODE TO YOU WITHOUT WARRANTIES OF ANY\n",
    "#  KIND; (B) CLOUDERA DISCLAIMS ANY AND ALL EXPRESS AND IMPLIED\n",
    "#  WARRANTIES WITH RESPECT TO THIS CODE, INCLUDING BUT NOT LIMITED TO\n",
    "#  IMPLIED WARRANTIES OF TITLE, NON-INFRINGEMENT, MERCHANTABILITY AND\n",
    "#  FITNESS FOR A PARTICULAR PURPOSE; (C) CLOUDERA IS NOT LIABLE TO YOU,\n",
    "#  AND WILL NOT DEFEND, INDEMNIFY, NOR HOLD YOU HARMLESS FOR ANY CLAIMS\n",
    "#  ARISING FROM OR RELATED TO THE CODE; AND (D)WITH RESPECT TO YOUR EXERCISE\n",
    "#  OF ANY RIGHTS GRANTED TO YOU FOR THE CODE, CLOUDERA IS NOT LIABLE FOR ANY\n",
    "#  DIRECT, INDIRECT, INCIDENTAL, SPECIAL, EXEMPLARY, PUNITIVE OR\n",
    "#  CONSEQUENTIAL DAMAGES INCLUDING, BUT NOT LIMITED TO, DAMAGES\n",
    "#  RELATED TO LOST REVENUE, LOST PROFITS, LOSS OF INCOME, LOSS OF\n",
    "#  BUSINESS ADVANTAGE OR UNAVAILABILITY, OR LOSS OR CORRUPTION OF\n",
    "#  DATA.\n",
    "#\n",
    "# #  Author(s): Paul de Fusco\n",
    "#***************************************************************************/\n"
   ]
  },
  {
   "cell_type": "code",
   "execution_count": 2,
   "id": "e5c492c3-1adc-4123-b010-224669161611",
   "metadata": {},
   "outputs": [
    {
     "name": "stdout",
     "output_type": "stream",
     "text": [
      "Collecting open-inference-openapi\n",
      "  Downloading open_inference_openapi-2.0.0.1-py3-none-any.whl.metadata (5.6 kB)\n",
      "Requirement already satisfied: httpx in /usr/local/lib/python3.10/site-packages (from open-inference-openapi) (0.27.0)\n",
      "Requirement already satisfied: pydantic>1 in /usr/local/lib/python3.10/site-packages (from open-inference-openapi) (2.4.0)\n",
      "Requirement already satisfied: annotated-types>=0.4.0 in /usr/local/lib/python3.10/site-packages (from pydantic>1->open-inference-openapi) (0.7.0)\n",
      "Requirement already satisfied: pydantic-core==2.10.0 in /usr/local/lib/python3.10/site-packages (from pydantic>1->open-inference-openapi) (2.10.0)\n",
      "Requirement already satisfied: typing-extensions>=4.6.1 in /usr/local/lib/python3.10/site-packages (from pydantic>1->open-inference-openapi) (4.12.2)\n",
      "Requirement already satisfied: anyio in /usr/local/lib/python3.10/site-packages (from httpx->open-inference-openapi) (4.7.0)\n",
      "Requirement already satisfied: certifi in /usr/local/lib/python3.10/site-packages (from httpx->open-inference-openapi) (2024.7.4)\n",
      "Requirement already satisfied: httpcore==1.* in /usr/local/lib/python3.10/site-packages (from httpx->open-inference-openapi) (1.0.9)\n",
      "Requirement already satisfied: idna in /usr/local/lib/python3.10/site-packages (from httpx->open-inference-openapi) (3.7)\n",
      "Requirement already satisfied: sniffio in /usr/local/lib/python3.10/site-packages (from httpx->open-inference-openapi) (1.3.0)\n",
      "Requirement already satisfied: h11>=0.16 in /usr/local/lib/python3.10/site-packages (from httpcore==1.*->httpx->open-inference-openapi) (0.16.0)\n",
      "Requirement already satisfied: exceptiongroup>=1.0.2 in /usr/local/lib/python3.10/site-packages (from anyio->httpx->open-inference-openapi) (1.2.2)\n",
      "Downloading open_inference_openapi-2.0.0.1-py3-none-any.whl (29 kB)\n",
      "Installing collected packages: open-inference-openapi\n",
      "Successfully installed open-inference-openapi-2.0.0.1\n"
     ]
    }
   ],
   "source": [
    "!pip3 install open-inference-openapi"
   ]
  },
  {
   "cell_type": "code",
   "execution_count": 1,
   "id": "faebb194-e23e-42b3-84de-a6c066e7ea5b",
   "metadata": {},
   "outputs": [],
   "source": [
    "#****************************************************************************\n",
    "# (C) Cloudera, Inc. 2020-2023\n",
    "#  All rights reserved.\n",
    "#\n",
    "#  Applicable Open Source License: GNU Affero General Public License v3.0\n",
    "#\n",
    "#  NOTE: Cloudera open source products are modular software products\n",
    "#  made up of hundreds of individual components, each of which was\n",
    "#  individually copyrighted.  Each Cloudera open source product is a\n",
    "#  collective work under U.S. Copyright Law. Your license to use the\n",
    "#  collective work is as provided in your written agreement with\n",
    "#  Cloudera.  Used apart from the collective work, this file is\n",
    "#  licensed for your use pursuant to the open source license\n",
    "#  identified above.\n",
    "#\n",
    "#  This code is provided to you pursuant a written agreement with\n",
    "#  (i) Cloudera, Inc. or (ii) a third-party authorized to distribute\n",
    "#  this code. If you do not have a written agreement with Cloudera nor\n",
    "#  with an authorized and properly licensed third party, you do not\n",
    "#  have any rights to access nor to use this code.\n",
    "#\n",
    "#  Absent a written agreement with Cloudera, Inc. (“Cloudera”) to the\n",
    "#  contrary, A) CLOUDERA PROVIDES THIS CODE TO YOU WITHOUT WARRANTIES OF ANY\n",
    "#  KIND; (B) CLOUDERA DISCLAIMS ANY AND ALL EXPRESS AND IMPLIED\n",
    "#  WARRANTIES WITH RESPECT TO THIS CODE, INCLUDING BUT NOT LIMITED TO\n",
    "#  IMPLIED WARRANTIES OF TITLE, NON-INFRINGEMENT, MERCHANTABILITY AND\n",
    "#  FITNESS FOR A PARTICULAR PURPOSE; (C) CLOUDERA IS NOT LIABLE TO YOU,\n",
    "#  AND WILL NOT DEFEND, INDEMNIFY, NOR HOLD YOU HARMLESS FOR ANY CLAIMS\n",
    "#  ARISING FROM OR RELATED TO THE CODE; AND (D)WITH RESPECT TO YOUR EXERCISE\n",
    "#  OF ANY RIGHTS GRANTED TO YOU FOR THE CODE, CLOUDERA IS NOT LIABLE FOR ANY\n",
    "#  DIRECT, INDIRECT, INCIDENTAL, SPECIAL, EXEMPLARY, PUNITIVE OR\n",
    "#  CONSEQUENTIAL DAMAGES INCLUDING, BUT NOT LIMITED TO, DAMAGES\n",
    "#  RELATED TO LOST REVENUE, LOST PROFITS, LOSS OF INCOME, LOSS OF\n",
    "#  BUSINESS ADVANTAGE OR UNAVAILABILITY, OR LOSS OR CORRUPTION OF\n",
    "#  DATA.\n",
    "#\n",
    "# #  Author(s): Paul de Fusco\n",
    "#***************************************************************************/"
   ]
  },
  {
   "cell_type": "code",
   "execution_count": 4,
   "id": "a1f430b6-c28d-42d4-9593-6c479e41fe8f",
   "metadata": {},
   "outputs": [
    {
     "name": "stdout",
     "output_type": "stream",
     "text": [
      "CDP config function defined!\n"
     ]
    }
   ],
   "source": [
    "# Import inference-related libraries\n",
    "import httpx\n",
    "import json\n",
    "import time\n",
    "import os\n",
    "import subprocess\n",
    "from urllib.parse import urlparse, urlunparse\n",
    "from typing import Optional, Dict, Any, List\n",
    "\n",
    "# Used while configuring CDP credentials config\n",
    "import getpass\n",
    "from llmopsUtils import *"
   ]
  },
  {
   "cell_type": "code",
   "execution_count": 7,
   "id": "5383f4bf-ddc3-4f19-942c-1a9fbe24a112",
   "metadata": {},
   "outputs": [
    {
     "name": "stdout",
     "output_type": "stream",
     "text": [
      "Collecting cdpcli\n",
      "  Downloading cdpcli-0.9.148.tar.gz (354 kB)\n",
      "  Preparing metadata (setup.py) ... \u001b[?25ldone\n",
      "\u001b[?25hRequirement already satisfied: python-dateutil<3.0.0,>=2.1 in /usr/local/lib/python3.10/site-packages (from cdpcli) (2.8.2)\n",
      "Collecting docutils>=0.14 (from cdpcli)\n",
      "  Downloading docutils-0.22.2-py3-none-any.whl.metadata (15 kB)\n",
      "Requirement already satisfied: pyyaml>=3.11 in /usr/local/lib/python3.10/site-packages (from cdpcli) (6.0)\n",
      "Requirement already satisfied: colorama!=0.3.8,!=0.3.9,!=0.4.2,>=0.2.5 in /usr/local/lib/python3.10/site-packages (from cdpcli) (0.4.6)\n",
      "Collecting asn1crypto>=0.21.1 (from cdpcli)\n",
      "  Downloading asn1crypto-1.5.1-py2.py3-none-any.whl.metadata (13 kB)\n",
      "Requirement already satisfied: rsa>=3.4.2 in /runtime-addons/cmladdon-2.0.52-b60/opt/cmladdons/python/site-packages (from cdpcli) (4.9)\n",
      "Collecting pure25519>=0.0.1 (from cdpcli)\n",
      "  Downloading pure25519-0.0.1.tar.gz (17 kB)\n",
      "  Preparing metadata (setup.py) ... \u001b[?25ldone\n",
      "\u001b[?25hCollecting ecdsa>=0.17.0 (from cdpcli)\n",
      "  Downloading ecdsa-0.19.1-py2.py3-none-any.whl.metadata (29 kB)\n",
      "Requirement already satisfied: requests>=2.21.0 in /usr/local/lib/python3.10/site-packages (from cdpcli) (2.32.3)\n",
      "Requirement already satisfied: urllib3>=1.21.1 in /home/cdsw/.local/lib/python3.10/site-packages (from cdpcli) (1.26.20)\n",
      "Requirement already satisfied: six>=1.5 in /usr/local/lib/python3.10/site-packages (from python-dateutil<3.0.0,>=2.1->cdpcli) (1.16.0)\n",
      "Requirement already satisfied: charset-normalizer<4,>=2 in /usr/local/lib/python3.10/site-packages (from requests>=2.21.0->cdpcli) (3.3.2)\n",
      "Requirement already satisfied: idna<4,>=2.5 in /usr/local/lib/python3.10/site-packages (from requests>=2.21.0->cdpcli) (3.7)\n",
      "Requirement already satisfied: certifi>=2017.4.17 in /usr/local/lib/python3.10/site-packages (from requests>=2.21.0->cdpcli) (2024.7.4)\n",
      "Requirement already satisfied: pyasn1>=0.1.3 in /runtime-addons/cmladdon-2.0.52-b60/opt/cmladdons/python/site-packages (from rsa>=3.4.2->cdpcli) (0.6.1)\n",
      "Downloading asn1crypto-1.5.1-py2.py3-none-any.whl (105 kB)\n",
      "Downloading docutils-0.22.2-py3-none-any.whl (632 kB)\n",
      "\u001b[2K   \u001b[90m━━━━━━━━━━━━━━━━━━━━━━━━━━━━━━━━━━━━━━━━\u001b[0m \u001b[32m632.7/632.7 kB\u001b[0m \u001b[31m4.0 MB/s\u001b[0m eta \u001b[36m0:00:00\u001b[0m\n",
      "\u001b[?25hDownloading ecdsa-0.19.1-py2.py3-none-any.whl (150 kB)\n",
      "Building wheels for collected packages: cdpcli, pure25519\n",
      "\u001b[33m  DEPRECATION: Building 'cdpcli' using the legacy setup.py bdist_wheel mechanism, which will be removed in a future version. pip 25.3 will enforce this behaviour change. A possible replacement is to use the standardized build interface by setting the `--use-pep517` option, (possibly combined with `--no-build-isolation`), or adding a `pyproject.toml` file to the source tree of 'cdpcli'. Discussion can be found at https://github.com/pypa/pip/issues/6334\u001b[0m\u001b[33m\n",
      "\u001b[0m  Building wheel for cdpcli (setup.py) ... \u001b[?25ldone\n",
      "\u001b[?25h  Created wheel for cdpcli: filename=cdpcli-0.9.148-py3-none-any.whl size=390723 sha256=618b623fe62574261da4294025122f45369273c32836d184a1e33a00ec60ae53\n",
      "  Stored in directory: /home/cdsw/.cache/pip/wheels/f7/1e/f6/92230b4106e64bab4d8dafcd2a1600d81b1eca1d7e1066487d\n",
      "\u001b[33m  DEPRECATION: Building 'pure25519' using the legacy setup.py bdist_wheel mechanism, which will be removed in a future version. pip 25.3 will enforce this behaviour change. A possible replacement is to use the standardized build interface by setting the `--use-pep517` option, (possibly combined with `--no-build-isolation`), or adding a `pyproject.toml` file to the source tree of 'pure25519'. Discussion can be found at https://github.com/pypa/pip/issues/6334\u001b[0m\u001b[33m\n",
      "\u001b[0m  Building wheel for pure25519 (setup.py) ... \u001b[?25ldone\n",
      "\u001b[?25h  Created wheel for pure25519: filename=pure25519-0.0.1-py3-none-any.whl size=24521 sha256=4a6ed475f93fd3fbfa4d8a31766cbfab24bbfa4a81712277833d3fcfeed7de1d\n",
      "  Stored in directory: /home/cdsw/.cache/pip/wheels/55/4a/1d/f5a7893255e176c67ba1858eb15949e16a7e5a9d309ebb90ff\n",
      "Successfully built cdpcli pure25519\n",
      "Installing collected packages: pure25519, asn1crypto, ecdsa, docutils, cdpcli\n",
      "\u001b[2K   \u001b[90m━━━━━━━━━━━━━━━━━━━━━━━━━━━━━━━━━━━━━━━━\u001b[0m \u001b[32m5/5\u001b[0m [cdpcli]2m4/5\u001b[0m [cdpcli]s]o]\n",
      "\u001b[1A\u001b[2KSuccessfully installed asn1crypto-1.5.1 cdpcli-0.9.148 docutils-0.22.2 ecdsa-0.19.1 pure25519-0.0.1\n"
     ]
    }
   ],
   "source": [
    "!pip3 install --upgrade cdpcli "
   ]
  },
  {
   "cell_type": "code",
   "execution_count": 8,
   "id": "b62cce77-f9e6-4266-8015-40b73b5285c7",
   "metadata": {},
   "outputs": [
    {
     "name": "stdin",
     "output_type": "stream",
     "text": [
      "Enter your CDP access key ID:  ········\n",
      "Enter your CDP private key:  ········\n"
     ]
    }
   ],
   "source": [
    "# Configure CDP control plane credentials\n",
    "access_key_id = getpass.getpass(\"Enter your CDP access key ID: \")\n",
    "private_key = getpass.getpass(\"Enter your CDP private key: \")\n",
    "configure_cdp(\"cdp_access_key_id\", access_key_id)\n",
    "configure_cdp(\"cdp_private_key\", private_key)"
   ]
  },
  {
   "cell_type": "code",
   "execution_count": 9,
   "id": "ec5c5bc8-f32a-4b53-b5cf-e98bac00b4f0",
   "metadata": {},
   "outputs": [
    {
     "name": "stdout",
     "output_type": "stream",
     "text": [
      "CAI DOMAIN:  ml-8c348e69-daf.pdf-oct.a465-9q4k.cloudera.site\n",
      "CDP TOKEN:  eyJraWQiOiIzYzhlNzA3OTEyZmI0NTA1ODE3NzE3YzMyOTU4MmQwMTFjYjlmNTAwIiwidHlwIjoiSldUIiwiYWxnIjoiUlMyNTYifQ.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.XXw7j_B4v0WRhTWtvYZd_ZNRtP_aN6ZhxdPI1WxN265vAoVcuHn3h9sqE8qWHiG6nLNOKDz0aAr7ZgFtNFkjq5g0ycHrotG3rc8S44ZCbk4XMC_b_6pzf9ngTENHVFWa4im3316E4Nx1kbYJpqgCSxJjK3etdooQ-E9QGBnJJ83hxRw0mdtf7GFFLQxn5e2iS42Sq7thRqEYyeZITS3F7FggzWfnDjFaPjrnYtt9EaIDy-JDbQuMhFHT4w_ccmjhtBPAOEif_deAfnydwqUEHs_8XuE9Jr3wUILqtGMuDz7mS8ZPv16-xCEuxe83ecaMqmXBqGuiQM7TqurNr4a0EQ\n"
     ]
    }
   ],
   "source": [
    "ENVIRONMENT_NAME = \"pdf-oct-cdp-env\"\n",
    "\n",
    "CAII_DOMAIN = get_caii_domain(ENVIRONMENT_NAME)\n",
    "CDP_TOKEN = get_ums_jwt_token()\n",
    "print(\"CAI DOMAIN: \", CAII_DOMAIN)\n",
    "print(\"CDP TOKEN: \", CDP_TOKEN)"
   ]
  },
  {
   "cell_type": "code",
   "execution_count": 10,
   "id": "e0eca52b-ed15-462c-8e9e-d6c745df596b",
   "metadata": {},
   "outputs": [
    {
     "name": "stdout",
     "output_type": "stream",
     "text": [
      "REGISTRY ENDPOINT:  https://modelregistry.ml-66ae42c5-565.pdf-oct.a465-9q4k.cloudera.site\n"
     ]
    }
   ],
   "source": [
    "REGISTRY_ENDPOINT = get_registry_endpoint(ENVIRONMENT_NAME)\n",
    "print(\"REGISTRY ENDPOINT: \", REGISTRY_ENDPOINT)"
   ]
  },
  {
   "cell_type": "code",
   "execution_count": 11,
   "id": "49c71904-77ac-4a7a-a94f-5ecc75950abe",
   "metadata": {},
   "outputs": [
    {
     "name": "stdout",
     "output_type": "stream",
     "text": [
      "{'created_at': '2025-10-22T23:08:42.683Z', 'creator': {'user_name': 'pauldefusco'}, 'id': 'yuh4-sdx1-zjhu-5qzc', 'name': 'fraud-detector-onnx-xgboost', 'tags': None, 'updated_at': '2025-10-22T23:08:42.683Z', 'visibility': 'private'}\n"
     ]
    }
   ],
   "source": [
    "REGISTERED_MODEL_NAME = \"fraud-detector-onnx-xgboost\"\n",
    "\n",
    "model_details = get_model_details(REGISTRY_ENDPOINT, REGISTERED_MODEL_NAME, CDP_TOKEN)\n",
    "print(model_details)"
   ]
  },
  {
   "cell_type": "code",
   "execution_count": 12,
   "id": "8d825844-90f4-40b4-8588-13e45c27a0a7",
   "metadata": {},
   "outputs": [
    {
     "name": "stdout",
     "output_type": "stream",
     "text": [
      "yuh4-sdx1-zjhu-5qzc\n",
      "1\n"
     ]
    }
   ],
   "source": [
    "MODEL_VERSION = get_most_recent_model_version(REGISTRY_ENDPOINT, model_details['id'], CDP_TOKEN)\n",
    "\n",
    "MODEL_ID = model_details['id']\n",
    "print(MODEL_ID)\n",
    "print(MODEL_VERSION)"
   ]
  },
  {
   "cell_type": "code",
   "execution_count": 13,
   "id": "0ac3fd4f-4130-45c9-bb75-b036ae1d95ac",
   "metadata": {},
   "outputs": [
    {
     "name": "stdout",
     "output_type": "stream",
     "text": [
      "Deployed xgboost-endpoint successfully!\n",
      "HTTP 503: upstream connect error or disconnect/reset before headers. reset reason: connection termination\n",
      "None\n"
     ]
    }
   ],
   "source": [
    "ENDPOINT_NAME = \"xgboost-endpoint\"\n",
    "deploy_model_to_caii(CAII_DOMAIN, CDP_TOKEN, MODEL_ID, MODEL_VERSION, ENDPOINT_NAME)"
   ]
  },
  {
   "cell_type": "code",
   "execution_count": 17,
   "id": "9859bae9-18ed-4fc4-a80b-c3f27a01b133",
   "metadata": {},
   "outputs": [
    {
     "name": "stdout",
     "output_type": "stream",
     "text": [
      "False\n"
     ]
    }
   ],
   "source": [
    "# Must return True before we go on to the next step\n",
    "ready = endpoint_is_ready(CAII_DOMAIN, CDP_TOKEN, ENDPOINT_NAME)\n",
    "print(ready)"
   ]
  },
  {
   "cell_type": "code",
   "execution_count": 16,
   "id": "116e13e0-193e-4386-a108-0416cab451d2",
   "metadata": {},
   "outputs": [
    {
     "name": "stdout",
     "output_type": "stream",
     "text": [
      "\n"
     ]
    }
   ],
   "source": [
    "BASE_URL = get_endpoint_base_url(CAII_DOMAIN, CDP_TOKEN, ENDPOINT_NAME)\n",
    "print(BASE_URL)"
   ]
  },
  {
   "cell_type": "code",
   "execution_count": null,
   "id": "5c0d1b66-76cd-4cb3-8335-85bef25749a9",
   "metadata": {},
   "outputs": [],
   "source": []
  }
 ],
 "metadata": {
  "kernelspec": {
   "display_name": "Python 3 (ipykernel)",
   "language": "python",
   "name": "python3"
  },
  "language_info": {
   "codemirror_mode": {
    "name": "ipython",
    "version": 3
   },
   "file_extension": ".py",
   "mimetype": "text/x-python",
   "name": "python",
   "nbconvert_exporter": "python",
   "pygments_lexer": "ipython3",
   "version": "3.10.17"
  }
 },
 "nbformat": 4,
 "nbformat_minor": 5
}
